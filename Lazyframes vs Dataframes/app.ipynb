{
 "cells": [
  {
   "cell_type": "markdown",
   "metadata": {},
   "source": [
    "Performance Lazyframes vs Dataframes"
   ]
  },
  {
   "cell_type": "code",
   "execution_count": 3,
   "metadata": {},
   "outputs": [],
   "source": [
    "import io\n",
    "import os\n",
    "import polars as pl"
   ]
  },
  {
   "cell_type": "code",
   "execution_count": 5,
   "metadata": {},
   "outputs": [],
   "source": [
    "__file__ = \"app.ipynb\"\n",
    "csv_file_path = os.path.join(os.path.dirname(__file__), \"./vehicletest.csv\")\n",
    "parquet_file_path = os.path.join(os.path.dirname(__file__), \"./vehicletest.parquet\")"
   ]
  },
  {
   "cell_type": "markdown",
   "metadata": {},
   "source": [
    "Convert from csv to parquet format "
   ]
  },
  {
   "cell_type": "code",
   "execution_count": 7,
   "metadata": {},
   "outputs": [],
   "source": [
    "if not os.path.exists(parquet_file_path):\n",
    "    df: pl.DataFrame = pl.read_csv(csv_file_path)\n",
    "    df.write_parquet(parquet_file_path)"
   ]
  },
  {
   "cell_type": "code",
   "execution_count": null,
   "metadata": {},
   "outputs": [],
   "source": [
    "# NOTE:\n",
    "# polars scan_parquet by doing this way: This allows the query optimizer to push down predicates \n",
    "# and projections to the scan level, thereby potentially reducing memory overhead."
   ]
  },
  {
   "cell_type": "code",
   "execution_count": 11,
   "metadata": {},
   "outputs": [],
   "source": [
    "lazy_df: pl.LazyFrame = pl.scan_parquet(parquet_file_path)"
   ]
  },
  {
   "cell_type": "code",
   "execution_count": 19,
   "metadata": {},
   "outputs": [
    {
     "name": "stdout",
     "output_type": "stream",
     "text": [
      "naive plan: (run LazyFrame.explain(optimized=True) to see the optimized plan)\n",
      "\n",
      "\n",
      "  PARQUET SCAN ./vehicletest.parquet\n",
      "  PROJECT */19 COLUMNS\n"
     ]
    }
   ],
   "source": [
    "# Polars allows you to scan a Parquet input. Scanning delays the actual parsing of the file \n",
    "# and instead returns a lazy computation holder called a LazyFrame.\n",
    "\n",
    "print(lazy_df)"
   ]
  },
  {
   "cell_type": "markdown",
   "metadata": {},
   "source": [
    "NOTE:\n",
    "polars read_parquet by doing this way:  this means that all data will be stored continuously in memory"
   ]
  },
  {
   "cell_type": "code",
   "execution_count": 20,
   "metadata": {},
   "outputs": [],
   "source": [
    "#The data can also be read from the parquet file into memory:\n",
    "df: pl.DataFrame = pl.read_parquet(parquet_file_path)"
   ]
  },
  {
   "cell_type": "markdown",
   "metadata": {},
   "source": [
    "NOTE:\n",
    "\n",
    "Lazy DataFrames are a concept in Python that refers to a way of working with data in a DataFrame format, but without loading all the data into memory at once. A LazyFrame holds information found during the brief scan and reads the rest of the file only when it is needed."
   ]
  },
  {
   "cell_type": "code",
   "execution_count": null,
   "metadata": {},
   "outputs": [],
   "source": [
    "# An example of this can be the clean process of the dataframe, by performing \n",
    "# the action to the data in memory and doing by the lazy approch\n",
    "\n",
    "# To memory\n",
    "df = df.fill_nan(None).drop_nulls()\n",
    "\n",
    "# lazy \n",
    "lazy_df = lazy_df.fill_nan(None).drop_nulls()\n",
    "\n",
    "# To apply the changes by lazy approch we shoud call the method collect\n",
    "# lazy_df.collect()"
   ]
  },
  {
   "cell_type": "code",
   "execution_count": null,
   "metadata": {},
   "outputs": [],
   "source": [
    "# we can see a big different when we perform actions over the data like:\n",
    "\n",
    "# Calculate mean values of features grouped by class\n",
    "aggregations = df.groupby(\"class\").agg(\n",
    "        **{col: pl.col(col).mean().alias(f\"{col}_mean\") for col in df.columns[0:-2]}\n",
    "    )\n",
    "\n",
    "\n",
    "# Calculate standard deviations of features grouped by class\n",
    "aggregations = df.groupby(\"class\").agg(\n",
    "    **{col: pl.col(col).std().alias(f\"{col}_std\") for col in df.columns[0:-2]}\n",
    ")\n",
    "\n",
    "# Materialize the lazy DataFrame\n",
    "aggregations = aggregations.collect()\n",
    "\n",
    "# the first approch is performing actions (mean and std) over the memory data\n",
    "# the second approch is performing the same actions but the data is not memory \n",
    "# until we call the method collect materialize the actions over data\n",
    "# using lazy approch helps to improve the performance in big dataset \n"
   ]
  }
 ],
 "metadata": {
  "kernelspec": {
   "display_name": "Python 3",
   "language": "python",
   "name": "python3"
  },
  "language_info": {
   "codemirror_mode": {
    "name": "ipython",
    "version": 3
   },
   "file_extension": ".py",
   "mimetype": "text/x-python",
   "name": "python",
   "nbconvert_exporter": "python",
   "pygments_lexer": "ipython3",
   "version": "3.7.9"
  },
  "orig_nbformat": 4
 },
 "nbformat": 4,
 "nbformat_minor": 2
}
